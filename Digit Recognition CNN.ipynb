{
  "cells": [
    {
      "metadata": {
        "_uuid": "8f2839f25d086af736a60e9eeb907d3b93b6e0e5",
        "_cell_guid": "b1076dfc-b9ad-4769-8c92-a6c4dae69d19",
        "trusted": true,
        "collapsed": true
      },
      "cell_type": "code",
      "source": "# This Python 3 environment comes with many helpful analytics libraries installed\n# It is defined by the kaggle/python docker image: https://github.com/kaggle/docker-python\n# For example, here's several helpful packages to load in \n\nimport numpy as np # linear algebra\nimport pandas as pd # data processing, CSV file I/O (e.g. pd.read_csv)\n\n# Input data files are available in the \"../input/\" directory.\n# For example, running this (by clicking run or pressing Shift+Enter) will list the files in the input directory\n\nimport os\nprint(os.listdir(\"../input\"))\n\n# Any results you write to the current directory are saved as output.",
      "execution_count": null,
      "outputs": []
    },
    {
      "metadata": {
        "_cell_guid": "79c7e3d0-c299-4dcb-8224-4455121ee9b0",
        "_uuid": "d629ff2d2480ee46fbb7e2d37f6b5fab8052498a",
        "trusted": true,
        "collapsed": true
      },
      "cell_type": "code",
      "source": "import numpy as np\nimport pandas as pd",
      "execution_count": null,
      "outputs": []
    },
    {
      "metadata": {
        "trusted": true,
        "_uuid": "0dba7ed56c23aa56f0c3d8f1fbcc775ecfe6aa56",
        "collapsed": true
      },
      "cell_type": "code",
      "source": "train = pd.read_csv('../input/train.csv')\ntrain.head()",
      "execution_count": null,
      "outputs": []
    },
    {
      "metadata": {
        "trusted": true,
        "_uuid": "51ab8820c1f0c96922fc4a51290db6091791a354",
        "collapsed": true
      },
      "cell_type": "code",
      "source": "test = pd.read_csv('../input/test.csv')\ntest.head()",
      "execution_count": null,
      "outputs": []
    },
    {
      "metadata": {
        "trusted": true,
        "_uuid": "e10bc9b9875994b799f06206b56685ed34437677",
        "collapsed": true
      },
      "cell_type": "code",
      "source": "train.info()",
      "execution_count": null,
      "outputs": []
    },
    {
      "metadata": {
        "trusted": true,
        "_uuid": "3835030c904c7b6d804dc0df6176238d1b209642",
        "collapsed": true
      },
      "cell_type": "code",
      "source": "train.describe()",
      "execution_count": null,
      "outputs": []
    },
    {
      "metadata": {
        "trusted": true,
        "_uuid": "9e4252d51b38756f86ede4bff6ff8c91d3be2591",
        "collapsed": true
      },
      "cell_type": "code",
      "source": "test.info()",
      "execution_count": null,
      "outputs": []
    },
    {
      "metadata": {
        "trusted": true,
        "_uuid": "e77662bdc8884493f4472a8e625a53af5e3548bd",
        "collapsed": true
      },
      "cell_type": "code",
      "source": "test.describe()",
      "execution_count": null,
      "outputs": []
    },
    {
      "metadata": {
        "trusted": true,
        "_uuid": "baeb8b41a9f45badc0e3bd028e95bfb31901ef74",
        "collapsed": true
      },
      "cell_type": "code",
      "source": "X_train = (train.iloc[:,1:].values).astype('float32') \ny_train = train.iloc[:,0].values.astype('int32') \nX_test = test.values.astype('float32')",
      "execution_count": null,
      "outputs": []
    },
    {
      "metadata": {
        "trusted": true,
        "_uuid": "8af2ab8c984129ce8716c187bca7c494581fb29e",
        "collapsed": true
      },
      "cell_type": "code",
      "source": "X_train",
      "execution_count": null,
      "outputs": []
    },
    {
      "metadata": {
        "trusted": true,
        "_uuid": "f428eed9bd81b7696cb6748ea570236503a594fb",
        "collapsed": true
      },
      "cell_type": "code",
      "source": "y_train",
      "execution_count": null,
      "outputs": []
    },
    {
      "metadata": {
        "trusted": true,
        "_uuid": "26c8cbcf5904c8daaeea176e7d7cf60fd046eb6f",
        "collapsed": true
      },
      "cell_type": "code",
      "source": "import matplotlib.pyplot as plt\nimport seaborn as sns\n%matplotlib inline",
      "execution_count": null,
      "outputs": []
    },
    {
      "metadata": {
        "trusted": true,
        "_uuid": "5ac030390634afb188b4cb1754049272af930151",
        "collapsed": true
      },
      "cell_type": "code",
      "source": "sns.countplot(y_train)",
      "execution_count": null,
      "outputs": []
    },
    {
      "metadata": {
        "trusted": true,
        "_uuid": "bf554602a6e68e1f79d14ee20adc81cc3aa33e6f",
        "collapsed": true
      },
      "cell_type": "code",
      "source": "plt.hist(y_train)",
      "execution_count": null,
      "outputs": []
    },
    {
      "metadata": {
        "trusted": true,
        "_uuid": "28e99616e61d233a5ffa43821f28cf2c167e21ae",
        "collapsed": true
      },
      "cell_type": "code",
      "source": "X_train = X_train.reshape(X_train.shape[0], 28, 28)",
      "execution_count": null,
      "outputs": []
    },
    {
      "metadata": {
        "trusted": true,
        "_uuid": "6cd150a9e7eb37d32789d242e06df9625c04cdd1",
        "collapsed": true
      },
      "cell_type": "code",
      "source": "plt.imshow(X_train[7])",
      "execution_count": null,
      "outputs": []
    },
    {
      "metadata": {
        "trusted": true,
        "_uuid": "b4485e49a582ee1ea371f2e2708f733759074689",
        "collapsed": true
      },
      "cell_type": "code",
      "source": "X_train = X_train.reshape(X_train.shape[0], 28, 28,1)\nX_train.shape",
      "execution_count": null,
      "outputs": []
    },
    {
      "metadata": {
        "trusted": true,
        "_uuid": "6aaae573f3404bf947f8dc6f644940833aa20d21",
        "collapsed": true
      },
      "cell_type": "code",
      "source": "X_test = X_test.reshape(X_test.shape[0],28,28,1)\nX_test.shape",
      "execution_count": null,
      "outputs": []
    },
    {
      "metadata": {
        "trusted": true,
        "_uuid": "2058b096a3c38360369451a318a372b7b36534e6",
        "collapsed": true
      },
      "cell_type": "code",
      "source": "mean_px = X_train.mean().astype(np.float32)\nstd_px = X_train.std().astype(np.float32)\ndef standardize(x): \n    return (x-mean_px)/std_px",
      "execution_count": null,
      "outputs": []
    },
    {
      "metadata": {
        "trusted": true,
        "_uuid": "a4776a0e55b4d2c6e176ffd115f03e8874cd0799",
        "collapsed": true
      },
      "cell_type": "code",
      "source": "from keras.layers.normalization import BatchNormalization\nfrom keras.layers import Conv2D\nfrom keras.layers import MaxPool2D\nfrom keras.layers.core import Lambda\nfrom keras.layers.core import Dense\nfrom keras.layers.core import Flatten\nfrom keras.layers.core import Dropout\nfrom keras.utils.np_utils import to_categorical\nfrom keras.models import  Sequential\nfrom keras.preprocessing import image\nfrom keras.optimizers import Adam",
      "execution_count": null,
      "outputs": []
    },
    {
      "metadata": {
        "trusted": true,
        "_uuid": "4d4540aa05c8bea71977291397f43d0b4de85335",
        "collapsed": true
      },
      "cell_type": "code",
      "source": "y_train = to_categorical(y_train)",
      "execution_count": null,
      "outputs": []
    },
    {
      "metadata": {
        "trusted": true,
        "_uuid": "5fe66f1cdae3ca52a6e99e938a60def650c5598e",
        "collapsed": true
      },
      "cell_type": "code",
      "source": "model = Sequential([\n    Lambda(standardize, input_shape=(28,28,1)),\n    Conv2D(32,(3,3), activation='relu'),\n    BatchNormalization(axis=1),\n    Dropout(.5),\n    Conv2D(32,(3,3), activation='relu'),\n    BatchNormalization(axis=1),\n    MaxPool2D(),\n    Conv2D(64,(3,3), activation='relu'),\n    BatchNormalization(axis=1),\n    Dropout(.5),\n    Conv2D(64,(3,3), activation='relu'),\n    MaxPool2D(),\n    Flatten(),\n    BatchNormalization(),\n    Dropout(.5),\n    Dense(512, activation='relu'),\n    BatchNormalization(),\n    Dropout(.5),\n    Dense(10, activation='softmax')\n    ])",
      "execution_count": null,
      "outputs": []
    },
    {
      "metadata": {
        "trusted": true,
        "_uuid": "bfd6297893bc845873166fb42c24757d08726d50",
        "collapsed": true
      },
      "cell_type": "code",
      "source": "gen = image.ImageDataGenerator(rotation_range=10, \n                               width_shift_range=0.10, \n                               shear_range=0.5,\n                               height_shift_range=0.10, \n                               zoom_range=0.10\n                              )",
      "execution_count": null,
      "outputs": []
    },
    {
      "metadata": {
        "trusted": true,
        "_uuid": "d437c7b05ff2e36abf4f473ea8b65dee4a9a8ada",
        "collapsed": true
      },
      "cell_type": "code",
      "source": "model.compile(Adam(), loss='categorical_crossentropy', metrics=['accuracy'])\nmodel.optimizer.lr=0.001\nbatches = gen.flow(X_train, y_train, batch_size=64)",
      "execution_count": null,
      "outputs": []
    },
    {
      "metadata": {
        "trusted": true,
        "_uuid": "fc75b521fb0398cb5175e0a0c973a1750cbad8f4",
        "collapsed": true
      },
      "cell_type": "code",
      "source": "result = model.fit_generator(generator=batches, steps_per_epoch=batches.n, epochs=1)",
      "execution_count": null,
      "outputs": []
    },
    {
      "metadata": {
        "trusted": true,
        "_uuid": "6a799d2d035fca004ecb83f765396f3ea5938f07",
        "collapsed": true
      },
      "cell_type": "code",
      "source": "",
      "execution_count": null,
      "outputs": []
    }
  ],
  "metadata": {
    "kernelspec": {
      "display_name": "Python 3",
      "language": "python",
      "name": "python3"
    },
    "language_info": {
      "name": "python",
      "version": "3.6.4",
      "mimetype": "text/x-python",
      "codemirror_mode": {
        "name": "ipython",
        "version": 3
      },
      "pygments_lexer": "ipython3",
      "nbconvert_exporter": "python",
      "file_extension": ".py"
    }
  },
  "nbformat": 4,
  "nbformat_minor": 1
}